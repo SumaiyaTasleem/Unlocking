{
  "nbformat": 4,
  "nbformat_minor": 0,
  "metadata": {
    "colab": {
      "provenance": [],
      "authorship_tag": "ABX9TyP6y9D59EiLFC9vo2JlrUuA"
    },
    "kernelspec": {
      "name": "python3",
      "display_name": "Python 3"
    },
    "language_info": {
      "name": "python"
    }
  },
  "cells": [
    {
      "cell_type": "code",
      "execution_count": null,
      "metadata": {
        "colab": {
          "base_uri": "https://localhost:8080/"
        },
        "id": "GojvR3KQvx0a",
        "outputId": "bf51cd61-067d-43ed-859c-c9ac348440dd"
      },
      "outputs": [
        {
          "output_type": "stream",
          "name": "stdout",
          "text": [
            "hello\n"
          ]
        }
      ],
      "source": [
        " print(\"hello\")"
      ]
    },
    {
      "cell_type": "code",
      "source": [
        "print('i am a Batman ')"
      ],
      "metadata": {
        "colab": {
          "base_uri": "https://localhost:8080/"
        },
        "id": "sipWW96p4voc",
        "outputId": "9a8e9a6b-c94d-4fcf-d355-90289409e8f9"
      },
      "execution_count": null,
      "outputs": [
        {
          "output_type": "stream",
          "name": "stdout",
          "text": [
            "i am a Batman \n"
          ]
        }
      ]
    },
    {
      "cell_type": "code",
      "source": [
        "print(\"\"\"iam a bat man\n",
        "No,am Sumi\n",
        "Am from kpm\"\"\")"
      ],
      "metadata": {
        "colab": {
          "base_uri": "https://localhost:8080/"
        },
        "id": "TqQ25GHg7bEn",
        "outputId": "0c87ebdf-14d7-4f75-8940-bde29af95406"
      },
      "execution_count": null,
      "outputs": [
        {
          "output_type": "stream",
          "name": "stdout",
          "text": [
            "iam a bat man\n",
            "No,am Sumi\n",
            "Am from kpm\n"
          ]
        }
      ]
    },
    {
      "cell_type": "code",
      "source": [
        "print(\"am a batsman\\n\"+\"no,am sumi\\n\" + \"am from kpm\")"
      ],
      "metadata": {
        "colab": {
          "base_uri": "https://localhost:8080/"
        },
        "id": "OxKRtrEL73fL",
        "outputId": "838ae24d-2c93-4bf3-d4ad-af2590846607"
      },
      "execution_count": null,
      "outputs": [
        {
          "output_type": "stream",
          "name": "stdout",
          "text": [
            "am a batsman\n",
            "no,am sumi\n",
            "am from kpm\n"
          ]
        }
      ]
    },
    {
      "cell_type": "code",
      "source": [
        "print(\"am sumi\\n\"*10)"
      ],
      "metadata": {
        "colab": {
          "base_uri": "https://localhost:8080/"
        },
        "id": "VP_lRiSB9rJx",
        "outputId": "276b952c-c0e1-476e-bf74-2d27df1280b3"
      },
      "execution_count": null,
      "outputs": [
        {
          "output_type": "stream",
          "name": "stdout",
          "text": [
            "am sumi\n",
            "am sumi\n",
            "am sumi\n",
            "am sumi\n",
            "am sumi\n",
            "am sumi\n",
            "am sumi\n",
            "am sumi\n",
            "am sumi\n",
            "am sumi\n",
            "\n"
          ]
        }
      ]
    },
    {
      "cell_type": "code",
      "source": [
        "name=(input(\"what is the name\"))"
      ],
      "metadata": {
        "colab": {
          "base_uri": "https://localhost:8080/"
        },
        "id": "s6fnTAiQBnmq",
        "outputId": "562fd7ee-54a4-4b6f-e1b2-516128510f6e"
      },
      "execution_count": null,
      "outputs": [
        {
          "name": "stdout",
          "output_type": "stream",
          "text": [
            "what is the nameSumi\n"
          ]
        }
      ]
    },
    {
      "cell_type": "code",
      "source": [
        "print(\"hello \"+name)"
      ],
      "metadata": {
        "colab": {
          "base_uri": "https://localhost:8080/"
        },
        "id": "6db-8u1KCvGR",
        "outputId": "06b4fef9-2d7f-42e8-c64f-c8c9d054b380"
      },
      "execution_count": null,
      "outputs": [
        {
          "output_type": "stream",
          "name": "stdout",
          "text": [
            "hello Sumi\n"
          ]
        }
      ]
    },
    {
      "cell_type": "code",
      "source": [
        "Menu= (\"chicken pakoda,fried rice,prawn\")\n",
        "\n",
        "print(name +\"hello happy to see you,what do you want from this.\\n\"+ (Menu))\n",
        "\n",
        "Order=input()"
      ],
      "metadata": {
        "colab": {
          "base_uri": "https://localhost:8080/"
        },
        "id": "f1AT26f3Dinh",
        "outputId": "c2c975bb-4ad1-430a-ad5e-ef05e353067b"
      },
      "execution_count": null,
      "outputs": [
        {
          "name": "stdout",
          "output_type": "stream",
          "text": [
            "Sumihello happy to see you,what do you want from this.\n",
            "chicken pakoda,fried rice,prawn\n",
            "Prawn \n"
          ]
        }
      ]
    },
    {
      "cell_type": "code",
      "source": [
        "#hey iam reading"
      ],
      "metadata": {
        "id": "ucyzzKFS5Gp-"
      },
      "execution_count": null,
      "outputs": []
    }
  ]
}